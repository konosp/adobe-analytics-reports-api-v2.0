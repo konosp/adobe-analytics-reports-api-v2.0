{
 "cells": [
  {
   "cell_type": "code",
   "execution_count": null,
   "metadata": {},
   "outputs": [],
   "source": [
    "# Import packages\n",
    "from analytics.mayhem.adobe import analytics_client\n",
    "import os"
   ]
  },
  {
   "cell_type": "code",
   "execution_count": null,
   "metadata": {},
   "outputs": [],
   "source": [
    "# Load environment variables\n",
    "report_suite_id = os.getenv('aa_report_suite_id')\n",
    "client_id = os.getenv('aa_oauth_client_id')\n",
    "client_secret = os.getenv('aa_oauth_client_secret')\n",
    "global_company_id = os.getenv('aa_global_company_id')"
   ]
  },
  {
   "cell_type": "code",
   "execution_count": null,
   "metadata": {},
   "outputs": [],
   "source": [
    "aa = analytics_client(\n",
    "        auth_client_id = client_id, \n",
    "        client_secret = client_secret,\n",
    "        account_id = global_company_id\n",
    ")"
   ]
  },
  {
   "cell_type": "code",
   "execution_count": null,
   "metadata": {},
   "outputs": [],
   "source": [
    "# Perform OAuth authentication\n",
    "aa._authenticate()"
   ]
  },
  {
   "cell_type": "code",
   "execution_count": null,
   "metadata": {},
   "outputs": [],
   "source": [
    "aa.set_report_suite(report_suite_id = report_suite_id)\n",
    "aa.add_metric(metric_name= 'metrics/visits')\n",
    "aa.add_metric(metric_name= 'metrics/orders')\n",
    "aa.add_dimension(dimension_name = 'variables/mobiledevicetype')\n",
    "aa.add_dimension(dimension_name= 'variables/lasttouchchannel')\n",
    "\n",
    "aa.set_date_range(date_start = '2020-01-01', date_end= '2020-01-31')"
   ]
  },
  {
   "cell_type": "code",
   "execution_count": null,
   "metadata": {
    "scrolled": false
   },
   "outputs": [],
   "source": [
    "data = aa.get_report_multiple_breakdowns()"
   ]
  },
  {
   "cell_type": "code",
   "execution_count": null,
   "metadata": {},
   "outputs": [],
   "source": [
    "print(data)"
   ]
  }
 ],
 "metadata": {
  "kernelspec": {
   "display_name": "Python 3",
   "language": "python",
   "name": "python3"
  },
  "language_info": {
   "codemirror_mode": {
    "name": "ipython",
    "version": 3
   },
   "file_extension": ".py",
   "mimetype": "text/x-python",
   "name": "python",
   "nbconvert_exporter": "python",
   "pygments_lexer": "ipython3",
   "version": "3.7.4"
  }
 },
 "nbformat": 4,
 "nbformat_minor": 4
}
